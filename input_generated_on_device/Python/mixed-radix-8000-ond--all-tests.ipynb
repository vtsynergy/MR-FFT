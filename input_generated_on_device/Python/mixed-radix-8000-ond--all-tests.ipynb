{
 "cells": [
  {
   "cell_type": "markdown",
   "metadata": {},
   "source": [
    "# Mixed-radix FFT\n",
    "\n",
    "This notebook  presents the use of a hardware overlay for mixed-radix FFT for input size = 8000 \n",
    "Hardware performs \n"
   ]
  },
  {
   "cell_type": "code",
   "execution_count": 1,
   "metadata": {},
   "outputs": [
    {
     "data": {
      "application/javascript": [
       "\n",
       "require(['notebook/js/codecell'], function(codecell) {\n",
       "  codecell.CodeCell.options_default.highlight_modes[\n",
       "      'magic_text/x-csrc'] = {'reg':[/^%%microblaze/]};\n",
       "  Jupyter.notebook.events.one('kernel_ready.Kernel', function(){\n",
       "      Jupyter.notebook.get_cells().map(function(cell){\n",
       "          if (cell.cell_type == 'code'){ cell.auto_highlight(); } }) ;\n",
       "  });\n",
       "});\n"
      ]
     },
     "metadata": {},
     "output_type": "display_data"
    }
   ],
   "source": [
    "from pynq import (allocate, Overlay)\n",
    "from sys import maxsize\n",
    "import numpy as np\n",
    "import math\n",
    "from math import log\n",
    "#from scipy import fft\n",
    "from numpy.fft import fft\n",
    "import time\n",
    "#from scipy import signal"
   ]
  },
  {
   "cell_type": "markdown",
   "metadata": {},
   "source": [
    "## Load the overlay\n",
    "\n",
    "Program the FPGA and reference the required hardware blocks."
   ]
  },
  {
   "cell_type": "code",
   "execution_count": 3,
   "metadata": {},
   "outputs": [],
   "source": [
    "#ol = Overlay('mr8k_cu3.bit')\n",
    "#ol = Overlay('mr8k-cu3-updated.bit')\n",
    "#ol = Overlay('mr8k_cu2.bit')\n",
    "#ol = Overlay('cu5-hce.bit')\n",
    "#ol = Overlay('24fast.bit')\n",
    "#ol = Overlay('cu5.bit')\n",
    "#ol = Overlay('64cu5_125cu1df.bit')\n",
    "#ol = Overlay('64cu5_125cu2.bit')\n",
    "#ol = Overlay('24onhost.bit')\n",
    "#ol = Overlay('cu5_cu4.bit')\n",
    "#ol = Overlay('ap-24-dp.bit')\n",
    "#ol = Overlay('ctfft64.bit')\n",
    "ol = Overlay('ond8000.bit')\n",
    "#ol = Overlay('1600_ap_fixed.bit')\n",
    "#ol = Overlay('ctap.bit')\n",
    "#ol = Overlay('ctst.bit')\n",
    "#ol = Overlay('24-8.bit')\n",
    "#ol = Overlay('../fftip.bit')\n",
    "#ol = Overlay('lb.bit')\n",
    "#ol = Overlay('mr8k-cu2-hardcoded.bit')\n",
    "dma = ol.dma\n",
    "mmult_ip = ol.matmult_accel_0"
   ]
  },
  {
   "cell_type": "markdown",
   "metadata": {},
   "source": [
    "## Allocate memory for the DMA transfers"
   ]
  },
  {
   "cell_type": "code",
   "execution_count": 4,
   "metadata": {},
   "outputs": [],
   "source": [
    "DIM = 8000\n",
    "in_buffer = allocate(shape=(2*DIM), dtype=np.float32, cacheable=False)\n",
    "out_buffer = allocate(shape=(2*DIM), dtype=np.float32, cacheable=False)\n"
   ]
  },
  {
   "cell_type": "markdown",
   "metadata": {},
   "source": [
    "## MR-FFT in hardware (PL side)\n",
    "\n",
    "The execution of the algorithm using the hardware kernel includes the roundtrip data transfer (processor to FPGA, and FPGA to processor). "
   ]
  },
  {
   "cell_type": "code",
   "execution_count": 5,
   "metadata": {},
   "outputs": [],
   "source": [
    "CTRL_REG = 0x00\n",
    "AP_START = (1<<0) # bit 0\n",
    "AUTO_RESTART = (1<<7) # bit 7\n",
    "mmult_ip.register_map.k = DIM\n",
    "mmult_ip.register_map.m = DIM\n",
    "mmult_ip.register_map.n = DIM\n",
    "\n",
    "def run_kernel():\n",
    "    #dma.sendchannel.transfer(in_buffer)\n",
    "    dma.recvchannel.transfer(out_buffer)\n",
    "    mmult_ip.write(CTRL_REG, (AP_START | AUTO_RESTART))  # initialize the module\n",
    "    #dma.sendchannel.wait()\n",
    "    dma.recvchannel.wait()"
   ]
  },
  {
   "cell_type": "markdown",
   "metadata": {},
   "source": [
    "Create example input to evaluate the kernel."
   ]
  },
  {
   "cell_type": "code",
   "execution_count": 6,
   "metadata": {},
   "outputs": [],
   "source": [
    "# Configure Numpy to avoid summarizing large arrays when printing their reprs.\n",
    "#np.set_printoptions(threshold=maxsize, suppress=True, floatmode=\"unique\")\n",
    "\n",
    "\n",
    "def find_round_freqs(fft_size: int, f_sampling: int) -> np.ndarray:\n",
    "    \"\"\"Find FFT bins with round frequencies.\n",
    "\n",
    "    Arguments\n",
    "    ---------\n",
    "    fft_size : int\n",
    "        The size of the FFT to evaluate frequency bins for.\n",
    "    f_sampling : int\n",
    "        The sampling rate of the data the FFT would be applied to.\n",
    "\n",
    "    Returns\n",
    "    -------\n",
    "    round_freqs : numpy.ndarray\n",
    "        Frequency bins for the given FFT parameters where the frequencies are\n",
    "        round.\n",
    "    \"\"\"\n",
    "\n",
    "    # Calculate positive (right) frequencies for FFT bins.\n",
    "    rfftfreqs = np.fft.rfftfreq(fft_size, d=f_sampling**-1)\n",
    "    # Compare frequencies with their rounded counterpart and check that they\n",
    "    # are equivalent to within machine epsilon.\n",
    "    round_freq_idxs = np.abs(rfftfreqs - np.round(rfftfreqs)) <= np.finfo(\"f8\").eps\n",
    "    # Grab round frequencies ignoring 0 Hz.\n",
    "    round_freqs = rfftfreqs[round_freq_idxs & (rfftfreqs != 0.0)]\n",
    "\n",
    "    return round_freqs"
   ]
  },
  {
   "cell_type": "markdown",
   "metadata": {},
   "source": [
    "## Find input frequencies"
   ]
  },
  {
   "cell_type": "code",
   "execution_count": 7,
   "metadata": {},
   "outputs": [
    {
     "name": "stdout",
     "output_type": "stream",
     "text": [
      "FFT Size: 1600 - Round Frequencies:\n",
      "[    5.    10.    15.    20.    25.    30.    35.    40.    45.    50.\n",
      "    55.    60.    65.    70.    75.    80.    85.    90.    95.   100.\n",
      "   105.   110.   115.   120.   125.   130.   135.   140.   145.   150.\n",
      "   155.   160.   165.   170.   175.   180.   185.   190.   195.   200.\n",
      "   205.   210.   215.   220.   225.   230.   235.   240.   245.   250.\n",
      "   255.   260.   265.   270.   275.   280.   285.   290.   295.   300.\n",
      "   305.   310.   315.   320.   325.   330.   335.   340.   345.   350.\n",
      "   355.   360.   365.   370.   375.   380.   385.   390.   395.   400.\n",
      "   405.   410.   415.   420.   425.   430.   435.   440.   445.   450.\n",
      "   455.   460.   465.   470.   475.   480.   485.   490.   495.   500.\n",
      "   505.   510.   515.   520.   525.   530.   535.   540.   545.   550.\n",
      "   555.   560.   565.   570.   575.   580.   585.   590.   595.   600.\n",
      "   605.   610.   615.   620.   625.   630.   635.   640.   645.   650.\n",
      "   655.   660.   665.   670.   675.   680.   685.   690.   695.   700.\n",
      "   705.   710.   715.   720.   725.   730.   735.   740.   745.   750.\n",
      "   755.   760.   765.   770.   775.   780.   785.   790.   795.   800.\n",
      "   805.   810.   815.   820.   825.   830.   835.   840.   845.   850.\n",
      "   855.   860.   865.   870.   875.   880.   885.   890.   895.   900.\n",
      "   905.   910.   915.   920.   925.   930.   935.   940.   945.   950.\n",
      "   955.   960.   965.   970.   975.   980.   985.   990.   995.  1000.\n",
      "  1005.  1010.  1015.  1020.  1025.  1030.  1035.  1040.  1045.  1050.\n",
      "  1055.  1060.  1065.  1070.  1075.  1080.  1085.  1090.  1095.  1100.\n",
      "  1105.  1110.  1115.  1120.  1125.  1130.  1135.  1140.  1145.  1150.\n",
      "  1155.  1160.  1165.  1170.  1175.  1180.  1185.  1190.  1195.  1200.\n",
      "  1205.  1210.  1215.  1220.  1225.  1230.  1235.  1240.  1245.  1250.\n",
      "  1255.  1260.  1265.  1270.  1275.  1280.  1285.  1290.  1295.  1300.\n",
      "  1305.  1310.  1315.  1320.  1325.  1330.  1335.  1340.  1345.  1350.\n",
      "  1355.  1360.  1365.  1370.  1375.  1380.  1385.  1390.  1395.  1400.\n",
      "  1405.  1410.  1415.  1420.  1425.  1430.  1435.  1440.  1445.  1450.\n",
      "  1455.  1460.  1465.  1470.  1475.  1480.  1485.  1490.  1495.  1500.\n",
      "  1505.  1510.  1515.  1520.  1525.  1530.  1535.  1540.  1545.  1550.\n",
      "  1555.  1560.  1565.  1570.  1575.  1580.  1585.  1590.  1595.  1600.\n",
      "  1605.  1610.  1615.  1620.  1625.  1630.  1635.  1640.  1645.  1650.\n",
      "  1655.  1660.  1665.  1670.  1675.  1680.  1685.  1690.  1695.  1700.\n",
      "  1705.  1710.  1715.  1720.  1725.  1730.  1735.  1740.  1745.  1750.\n",
      "  1755.  1760.  1765.  1770.  1775.  1780.  1785.  1790.  1795.  1800.\n",
      "  1805.  1810.  1815.  1820.  1825.  1830.  1835.  1840.  1845.  1850.\n",
      "  1855.  1860.  1865.  1870.  1875.  1880.  1885.  1890.  1895.  1900.\n",
      "  1905.  1910.  1915.  1920.  1925.  1930.  1935.  1940.  1945.  1950.\n",
      "  1955.  1960.  1965.  1970.  1975.  1980.  1985.  1990.  1995.  2000.\n",
      "  2005.  2010.  2015.  2020.  2025.  2030.  2035.  2040.  2045.  2050.\n",
      "  2055.  2060.  2065.  2070.  2075.  2080.  2085.  2090.  2095.  2100.\n",
      "  2105.  2110.  2115.  2120.  2125.  2130.  2135.  2140.  2145.  2150.\n",
      "  2155.  2160.  2165.  2170.  2175.  2180.  2185.  2190.  2195.  2200.\n",
      "  2205.  2210.  2215.  2220.  2225.  2230.  2235.  2240.  2245.  2250.\n",
      "  2255.  2260.  2265.  2270.  2275.  2280.  2285.  2290.  2295.  2300.\n",
      "  2305.  2310.  2315.  2320.  2325.  2330.  2335.  2340.  2345.  2350.\n",
      "  2355.  2360.  2365.  2370.  2375.  2380.  2385.  2390.  2395.  2400.\n",
      "  2405.  2410.  2415.  2420.  2425.  2430.  2435.  2440.  2445.  2450.\n",
      "  2455.  2460.  2465.  2470.  2475.  2480.  2485.  2490.  2495.  2500.\n",
      "  2505.  2510.  2515.  2520.  2525.  2530.  2535.  2540.  2545.  2550.\n",
      "  2555.  2560.  2565.  2570.  2575.  2580.  2585.  2590.  2595.  2600.\n",
      "  2605.  2610.  2615.  2620.  2625.  2630.  2635.  2640.  2645.  2650.\n",
      "  2655.  2660.  2665.  2670.  2675.  2680.  2685.  2690.  2695.  2700.\n",
      "  2705.  2710.  2715.  2720.  2725.  2730.  2735.  2740.  2745.  2750.\n",
      "  2755.  2760.  2765.  2770.  2775.  2780.  2785.  2790.  2795.  2800.\n",
      "  2805.  2810.  2815.  2820.  2825.  2830.  2835.  2840.  2845.  2850.\n",
      "  2855.  2860.  2865.  2870.  2875.  2880.  2885.  2890.  2895.  2900.\n",
      "  2905.  2910.  2915.  2920.  2925.  2930.  2935.  2940.  2945.  2950.\n",
      "  2955.  2960.  2965.  2970.  2975.  2980.  2985.  2990.  2995.  3000.\n",
      "  3005.  3010.  3015.  3020.  3025.  3030.  3035.  3040.  3045.  3050.\n",
      "  3055.  3060.  3065.  3070.  3075.  3080.  3085.  3090.  3095.  3100.\n",
      "  3105.  3110.  3115.  3120.  3125.  3130.  3135.  3140.  3145.  3150.\n",
      "  3155.  3160.  3165.  3170.  3175.  3180.  3185.  3190.  3195.  3200.\n",
      "  3205.  3210.  3215.  3220.  3225.  3230.  3235.  3240.  3245.  3250.\n",
      "  3255.  3260.  3265.  3270.  3275.  3280.  3285.  3290.  3295.  3300.\n",
      "  3305.  3310.  3315.  3320.  3325.  3330.  3335.  3340.  3345.  3350.\n",
      "  3355.  3360.  3365.  3370.  3375.  3380.  3385.  3390.  3395.  3400.\n",
      "  3405.  3410.  3415.  3420.  3425.  3430.  3435.  3440.  3445.  3450.\n",
      "  3455.  3460.  3465.  3470.  3475.  3480.  3485.  3490.  3495.  3500.\n",
      "  3505.  3510.  3515.  3520.  3525.  3530.  3535.  3540.  3545.  3550.\n",
      "  3555.  3560.  3565.  3570.  3575.  3580.  3585.  3590.  3595.  3600.\n",
      "  3605.  3610.  3615.  3620.  3625.  3630.  3635.  3640.  3645.  3650.\n",
      "  3655.  3660.  3665.  3670.  3675.  3680.  3685.  3690.  3695.  3700.\n",
      "  3705.  3710.  3715.  3720.  3725.  3730.  3735.  3740.  3745.  3750.\n",
      "  3755.  3760.  3765.  3770.  3775.  3780.  3785.  3790.  3795.  3800.\n",
      "  3805.  3810.  3815.  3820.  3825.  3830.  3835.  3840.  3845.  3850.\n",
      "  3855.  3860.  3865.  3870.  3875.  3880.  3885.  3890.  3895.  3900.\n",
      "  3905.  3910.  3915.  3920.  3925.  3930.  3935.  3940.  3945.  3950.\n",
      "  3955.  3960.  3965.  3970.  3975.  3980.  3985.  3990.  3995.  4000.]\n",
      "\n",
      "FFT Size: 2048 - Round Frequencies:\n",
      "[  125.   250.   375.   500.   625.   750.   875.  1000.  1125.  1250.\n",
      "  1375.  1500.  1625.  1750.  1875.  2000.  2125.  2250.  2375.  2500.\n",
      "  2625.  2750.  2875.  3000.  3125.  3250.  3375.  3500.  3625.  3750.\n",
      "  3875.  4000.]\n",
      "\n",
      "FFT Size: 8000 - Round Frequencies:\n",
      "[  1.00000000e+00   2.00000000e+00   3.00000000e+00 ...,   3.99800000e+03\n",
      "   3.99900000e+03   4.00000000e+03]\n",
      "\n",
      "FFT Size: 8192 - Round Frequencies:\n",
      "[  125.   250.   375.   500.   625.   750.   875.  1000.  1125.  1250.\n",
      "  1375.  1500.  1625.  1750.  1875.  2000.  2125.  2250.  2375.  2500.\n",
      "  2625.  2750.  2875.  3000.  3125.  3250.  3375.  3500.  3625.  3750.\n",
      "  3875.  4000.]\n",
      "\n"
     ]
    }
   ],
   "source": [
    "f_sampling = 8000\n",
    "fft_sizes = [1600, 2048, 8000, 8192]\n",
    "\n",
    "for fft_size in fft_sizes:\n",
    "    round_freqs = find_round_freqs(fft_size, f_sampling)\n",
    "    print(f\"FFT Size: {fft_size} - Round Frequencies:\\n{round_freqs}\\n\")"
   ]
  },
  {
   "cell_type": "markdown",
   "metadata": {},
   "source": [
    "## Generate input"
   ]
  },
  {
   "cell_type": "code",
   "execution_count": 9,
   "metadata": {},
   "outputs": [],
   "source": [
    "#A = np.random.rand(DIM, DIM).astype(dtype=np.float32)\n",
    "A = np.ones((DIM),dtype=np.float32)\n",
    "BB = np.zeros((8192),dtype=np.float32)\n",
    "CC = np.hamming(DIM);\n",
    "CC = CC/np.sum(CC)\n",
    "sumin=0;\n",
    "#B = np.random.rand(DIM, DIM).astype(dtype=np.float32)\n",
    "#B = np.ones((DIM),dtype=np.float32)\n",
    "for i in range (2*DIM):\n",
    "#in_buffer[:] = np.stack((A, B))\n",
    "    if (i<DIM):\n",
    "        #in_buffer[i] = (math.sin(2*math.pi*i/DIM) + math.sin(2*math.pi*i*600/DIM) +  math.cos(2*math.pi*i*1000/DIM) +  math.cos(2*math.pi*i*3000/DIM))/#1000000\n",
    "        in_buffer[i] = (math.sin(2*math.pi*i*100/DIM))/8000\n",
    "        #in_buffer[i] = (math.sin(2*math.pi*i*1000/DIM)) + (math.sin(2*math.pi*i*2000/DIM)) + (math.sin(2*math.pi*i*3000/DIM)) \n",
    "        #in_buffer[i] = math.sin(2*math.pi*i/DIM) + math.sin(2*math.pi*i*600/DIM) +  math.cos(2*math.pi*i*1000/DIM) +  math.cos(2*math.pi*i*3000/DIM)\n",
    "        #in_buffer[i]/=400000000\n",
    "        #in_buffer[i] = math.sin(2*math.pi*i*700/DIM)/\n",
    "        #in_buffer[i] = math.sin(2*math.pi*i*4000/DIM) \n",
    "        #in_buffer[i] *=np.float32(CC[i])\n",
    "        A[i]=in_buffer[i]\n",
    "        #sumin +=np.abs(in_buffer[i])\n",
    "        BB[i]=in_buffer[i]\n",
    "    else:\n",
    "        in_buffer[i] = 0 ##imaginary\n",
    "    #   in_buffer[i] = math.cos(2*math.pi*(i-DIM)/DIM)\n"
   ]
  },
  {
   "cell_type": "markdown",
   "metadata": {},
   "source": [
    "## Normalize the input"
   ]
  },
  {
   "cell_type": "code",
   "execution_count": null,
   "metadata": {},
   "outputs": [],
   "source": []
  },
  {
   "cell_type": "markdown",
   "metadata": {},
   "source": [
    "## Plot input (first 1000 samples)"
   ]
  },
  {
   "cell_type": "code",
   "execution_count": 10,
   "metadata": {},
   "outputs": [],
   "source": [
    "import matplotlib.pyplot as plt\n",
    "plt.rcParams['figure.figsize'] = [20, 4]\n",
    "#hw_fft_data = np.abs(np.array(fft.rxbuf))\n",
    "#sw_fft_data = np.abs(np.array(np.fft.fftn(din)))\n",
    "\n",
    "#b = scipy.decimate(A, int(len(a)/500)+1)\n",
    "B = A[0:1000]; #plot first 4000 samples\n",
    "f0, ax0 = plt.subplots()\n",
    "#B = scipy.signal.decimate(A, int(len(A)/8000)+1)\n",
    "#ax0.set_yscale('log')\n",
    "ax0.plot(B)\n",
    "#ax0.plot(A)\n",
    "#ax0.locator_params(axis='x', nbins=1000)\n",
    "#plt.xticks(np.arange(0, 100, step=1))\n",
    "ax0.set_xlabel('Samples')\n",
    "ax0.set_ylabel('Input Values');\n",
    "#print('mean squared error for  real output: ' + str(err_squared.mean()))"
   ]
  },
  {
   "cell_type": "markdown",
   "metadata": {},
   "source": [
    "Measure the execution time."
   ]
  },
  {
   "cell_type": "code",
   "execution_count": 11,
   "metadata": {},
   "outputs": [
    {
     "name": "stdout",
     "output_type": "stream",
     "text": [
      "0.001721779505411784\n",
      "Runtime seconds- average of 15 hardware mixed-radix FFT runs \n"
     ]
    }
   ],
   "source": [
    "#%%timeit\n",
    "start_time = time.time()\n",
    "for i in range (15):\n",
    "    run_kernel()\n",
    "print((time.time() - start_time)/15)\n",
    "print(\"Runtime seconds- average of 15 hardware mixed-radix FFT runs \")"
   ]
  },
  {
   "cell_type": "code",
   "execution_count": 12,
   "metadata": {},
   "outputs": [],
   "source": [
    "#print(out_buffer[1000])"
   ]
  },
  {
   "cell_type": "markdown",
   "metadata": {},
   "source": [
    "## Numpy FFT in software (PS side)\n",
    "\n",
    "NumPy is the golden standard against with the hardware implementation is compared. \n"
   ]
  },
  {
   "cell_type": "code",
   "execution_count": 13,
   "metadata": {},
   "outputs": [
    {
     "name": "stdout",
     "output_type": "stream",
     "text": [
      "0.0052684307098388675\n",
      "Runtime seconds- average of 15 numpy FFT runs \n"
     ]
    }
   ],
   "source": [
    "#%timeit \n",
    "start_time2 = time.time()\n",
    "for i in range (15):\n",
    "    A_f=np.fft.fft(A)\n",
    "print((time.time() - start_time2)/15)\n",
    "print(\"Runtime seconds- average of 15 numpy FFT runs \")"
   ]
  },
  {
   "cell_type": "markdown",
   "metadata": {},
   "source": [
    "## Print outputs and plot MSE "
   ]
  },
  {
   "cell_type": "code",
   "execution_count": 14,
   "metadata": {},
   "outputs": [],
   "source": [
    "#(A_f[1000])\n",
    "\n",
    "#np.array_equal(np.real(np.fft.rfft(A)), out_buffer)"
   ]
  },
  {
   "cell_type": "code",
   "execution_count": 15,
   "metadata": {},
   "outputs": [
    {
     "data": {
      "text/plain": [
       "PynqBuffer([  0.00000000e+00,   0.00000000e+00,  -2.38418579e-07, ...,\n",
       "              2.38418579e-07,   7.15255737e-07,   1.19209290e-06], dtype=float32)"
      ]
     },
     "execution_count": 15,
     "metadata": {},
     "output_type": "execute_result"
    }
   ],
   "source": [
    "\n",
    "\n",
    "out_buffer\n",
    "#out_buffer.size\n",
    "#out_buffer[0,1,2,3,4....7999] -> Real data\n",
    "#out_buffer[8000,8001,8002,......15999] -> Imaginary data"
   ]
  },
  {
   "cell_type": "code",
   "execution_count": 16,
   "metadata": {},
   "outputs": [
    {
     "name": "stdout",
     "output_type": "stream",
     "text": [
      "Mean absolute difference in real values: abs(FFT_hw.real(:) - FFT_sw.real(:)) : 6.22957944876e-07\n",
      "Mean absolute difference in imaginary values: abs(FFT_hw.real(:) - FFT_sw.real(:)) 1.07839829478e-06\n"
     ]
    },
    {
     "data": {
      "image/png": "[encoded data removed]",
      "text/plain": [
       "<matplotlib.figure.Figure at 0xafcbb970>"
      ]
     },
     "metadata": {},
     "output_type": "display_data"
    },
    {
     "data": {
      "image/png": "[encoded data removed]",
      "text/plain": [
       "<matplotlib.figure.Figure at 0xaea11d30>"
      ]
     },
     "metadata": {},
     "output_type": "display_data"
    }
   ],
   "source": [
    "#import matplotlib.pyplot as plt\n",
    "#hw_fft_data = np.abs(np.array(fft.rxbuf))\n",
    "#sw_fft_data = np.abs(np.array(np.fft.fftn(din)))\n",
    "\n",
    "hw_fft_rdata = np.zeros((DIM),dtype=np.float32)\n",
    "hw_fft_idata = np.zeros((DIM),dtype=np.float32)\n",
    "hw_fft_absdata = np.zeros((DIM),dtype=np.float32)\n",
    "for i in range (DIM):\n",
    "    hw_fft_rdata[i]=out_buffer[i]\n",
    "    hw_fft_idata[i]=out_buffer[i+DIM]\n",
    "    hw_fft_absdata[i]= math.sqrt(hw_fft_rdata[i]*hw_fft_rdata[i] + hw_fft_idata[i]*hw_fft_idata[i])\n",
    "\n",
    "\n",
    "    \n",
    "#f6, ax6 = plt.subplots()\n",
    "#ax6.set_yscale('log')\n",
    "#ax6.plot(hw_fft_absdata)\n",
    "#ax6.set_xlabel('Samples')\n",
    "#ax6.set_ylabel('Absolute value - HW Mixed-Radix 8K');  \n",
    "    \n",
    "\n",
    "    \n",
    "sw_fft_rdata = np.real(A_f)\n",
    "sw_fft_idata = np.imag(A_f)\n",
    "sw_fft_absdata = np.abs(A_f)\n",
    "\n",
    "#f5, ax5 = plt.subplots()\n",
    "#ax5.set_yscale('log')\n",
    "#ax5.plot(sw_fft_absdata)\n",
    "#ax5.set_xlabel('Samples')\n",
    "#ax5.set_ylabel('Absolute value - SW Numpy FFT 8K');\n",
    "\n",
    "\n",
    "#err_squared = (hw_fft_rdata-sw_fft_rdata)**2\n",
    "err_squared = abs(hw_fft_rdata-sw_fft_rdata)\n",
    "f, ax = plt.subplots()\n",
    "ax.plot(err_squared)\n",
    "ax.set_yscale('log')\n",
    "ax.set_xlabel('Samples')\n",
    "ax.set_ylabel('Absolute difference in real values: abs(FFT_hw.real(:) - FFT_sw.real(:)) :');\n",
    "print('Mean absolute difference in real values: abs(FFT_hw.real(:) - FFT_sw.real(:)) : ' + str(err_squared.mean()))\n",
    "\n",
    "#err_squared2 = (hw_fft_idata-sw_fft_idata)**2\n",
    "err_squared2 = abs(hw_fft_idata-sw_fft_idata)\n",
    "f2, ax2 = plt.subplots()\n",
    "ax2.set_yscale('log')\n",
    "ax2.plot(err_squared2)\n",
    "ax2.set_xlabel('Samples')\n",
    "ax2.set_ylabel('Absolute difference in imaginary values: abs(FFT_hw.real(:) - FFT_sw.real(:)');\n",
    "print('Mean absolute difference in imaginary values: abs(FFT_hw.real(:) - FFT_sw.real(:)) ' + str(err_squared2.mean()))"
   ]
  },
  {
   "cell_type": "markdown",
   "metadata": {},
   "source": [
    "## Compute FFT 8192 and plot all outputs\n",
    "### 1: MR-FFT-8000\n",
    "### 2: Numpy-FFT-8000\n",
    "### 3: Numpy-FFT-8192"
   ]
  },
  {
   "cell_type": "code",
   "execution_count": 17,
   "metadata": {},
   "outputs": [
    {
     "data": {
      "image/png": "[encoded data removed]",
      "text/plain": [
       "<matplotlib.figure.Figure at 0xae8cf5d0>"
      ]
     },
     "metadata": {},
     "output_type": "display_data"
    },
    {
     "data": {
      "image/png": "[encoded data removed]",
      "text/plain": [
       "<matplotlib.figure.Figure at 0xae874e30>"
      ]
     },
     "metadata": {},
     "output_type": "display_data"
    },
    {
     "data": {
      "image/png": "[encoded data removed]",
      "text/plain": [
       "<matplotlib.figure.Figure at 0xae8c4cd0>"
      ]
     },
     "metadata": {},
     "output_type": "display_data"
    }
   ],
   "source": [
    "f6, ax6 = plt.subplots()\n",
    "ax6.set_yscale('log')\n",
    "ax6.plot(hw_fft_absdata)\n",
    "ax6.set_xlabel('Samples')\n",
    "ax6.set_ylabel('Absolute value - HW Mixed-Radix 1600');  \n",
    "    \n",
    "\n",
    "f5, ax5 = plt.subplots()\n",
    "ax5.set_yscale('log')\n",
    "ax5.plot(sw_fft_absdata)\n",
    "ax5.set_xlabel('Samples')\n",
    "ax5.set_ylabel('Absolute value - SW Numpy FFT 1600');\n",
    "\n",
    "\n",
    "B_f =fft(BB)\n",
    "\n",
    "sw_fft_r3data = np.real(B_f)\n",
    "sw_fft_i3data = np.imag(B_f)\n",
    "sw_fft_abs3data = np.abs(B_f)\n",
    "\n",
    "f51, ax51 = plt.subplots()\n",
    "ax51.set_yscale('log')\n",
    "ax51.plot(sw_fft_abs3data)\n",
    "ax51.set_xlabel('Samples')\n",
    "ax51.set_ylabel('Absolute value - SW Padded FFT 2048 point');\n",
    "\n",
    "\n",
    "\n",
    "\n"
   ]
  },
  {
   "cell_type": "markdown",
   "metadata": {},
   "source": [
    "# Print all elements with magnitude > 0.1"
   ]
  },
  {
   "cell_type": "code",
   "execution_count": 18,
   "metadata": {},
   "outputs": [
    {
     "name": "stdout",
     "output_type": "stream",
     "text": [
      "MR-FFT-1600-FPGA element  100   magnitude  0.499436\n",
      "MR-FFT-1600-FPGA element  7900   magnitude  0.499432\n"
     ]
    }
   ],
   "source": [
    "for i in range (hw_fft_absdata.size):\n",
    "    if (hw_fft_absdata[i]>0.1):\n",
    "        print(\"MR-FFT-1600-FPGA element \", i, \"  magnitude \" ,hw_fft_absdata[i])"
   ]
  },
  {
   "cell_type": "code",
   "execution_count": 19,
   "metadata": {},
   "outputs": [
    {
     "name": "stdout",
     "output_type": "stream",
     "text": [
      "Numpy-FFT-1600 element  100   magnitude  0.500000005477\n",
      "Numpy-FFT-1600 element  7900   magnitude  0.500000005477\n"
     ]
    }
   ],
   "source": [
    "for i in range (sw_fft_absdata.size):\n",
    "    if (sw_fft_absdata[i]>0.1):\n",
    "        print(\"Numpy-FFT-1600 element \", i, \"  magnitude \" ,sw_fft_absdata[i])"
   ]
  },
  {
   "cell_type": "code",
   "execution_count": 20,
   "metadata": {},
   "outputs": [
    {
     "name": "stdout",
     "output_type": "stream",
     "text": [
      "Numpy-FFT-2048 element  101   magnitude  0.107154606888\n",
      "Numpy-FFT-2048 element  102   magnitude  0.384368750007\n",
      "Numpy-FFT-2048 element  103   magnitude  0.261022002726\n",
      "Numpy-FFT-2048 element  8089   magnitude  0.261022002726\n",
      "Numpy-FFT-2048 element  8090   magnitude  0.384368750007\n",
      "Numpy-FFT-2048 element  8091   magnitude  0.107154606888\n"
     ]
    }
   ],
   "source": [
    "for i in range (sw_fft_abs3data.size):\n",
    "    if (sw_fft_abs3data[i]>0.1):\n",
    "        print(\"Numpy-FFT- element \", i, \"  magnitude \" ,sw_fft_abs3data[i])"
   ]
  },
  {
   "cell_type": "code",
   "execution_count": null,
   "metadata": {},
   "outputs": [],
   "source": []
  }
 ],
 "metadata": {
  "kernelspec": {
   "display_name": "Python 3",
   "language": "python",
   "name": "python3"
  },
  "language_info": {
   "codemirror_mode": {
    "name": "ipython",
    "version": 3
   },
   "file_extension": ".py",
   "mimetype": "text/x-python",
   "name": "python",
   "nbconvert_exporter": "python",
   "pygments_lexer": "ipython3",
   "version": "3.6.5"
  }
 },
 "nbformat": 4,
 "nbformat_minor": 2
}
